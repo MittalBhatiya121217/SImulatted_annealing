{
  "cells": [
    {
      "cell_type": "code",
      "execution_count": null,
      "metadata": {
        "colab": {
          "base_uri": "https://localhost:8080/"
        },
        "id": "2l1LQ0Atvx1F",
        "outputId": "11a093a4-4b4c-4e74-c111-d1b6b34676c7"
      },
      "outputs": [
        {
          "output_type": "stream",
          "name": "stdout",
          "text": [
            "Looking in indexes: https://pypi.org/simple, https://us-python.pkg.dev/colab-wheels/public/simple/\n",
            "Requirement already satisfied: fastai in /usr/local/lib/python3.7/dist-packages (2.7.9)\n",
            "Requirement already satisfied: pyyaml in /usr/local/lib/python3.7/dist-packages (from fastai) (6.0)\n",
            "Requirement already satisfied: fastprogress>=0.2.4 in /usr/local/lib/python3.7/dist-packages (from fastai) (1.0.3)\n",
            "Requirement already satisfied: requests in /usr/local/lib/python3.7/dist-packages (from fastai) (2.23.0)\n",
            "Requirement already satisfied: fastcore<1.6,>=1.4.5 in /usr/local/lib/python3.7/dist-packages (from fastai) (1.5.27)\n",
            "Requirement already satisfied: spacy<4 in /usr/local/lib/python3.7/dist-packages (from fastai) (3.4.2)\n",
            "Requirement already satisfied: torchvision>=0.8.2 in /usr/local/lib/python3.7/dist-packages (from fastai) (0.13.1+cu113)\n",
            "Requirement already satisfied: scipy in /usr/local/lib/python3.7/dist-packages (from fastai) (1.7.3)\n",
            "Requirement already satisfied: pandas in /usr/local/lib/python3.7/dist-packages (from fastai) (1.3.5)\n",
            "Requirement already satisfied: packaging in /usr/local/lib/python3.7/dist-packages (from fastai) (21.3)\n",
            "Requirement already satisfied: torch<1.14,>=1.7 in /usr/local/lib/python3.7/dist-packages (from fastai) (1.12.1+cu113)\n",
            "Requirement already satisfied: scikit-learn in /usr/local/lib/python3.7/dist-packages (from fastai) (1.0.2)\n",
            "Requirement already satisfied: matplotlib in /usr/local/lib/python3.7/dist-packages (from fastai) (3.2.2)\n",
            "Requirement already satisfied: pip in /usr/local/lib/python3.7/dist-packages (from fastai) (21.1.3)\n",
            "Requirement already satisfied: pillow>6.0.0 in /usr/local/lib/python3.7/dist-packages (from fastai) (7.1.2)\n",
            "Requirement already satisfied: fastdownload<2,>=0.0.5 in /usr/local/lib/python3.7/dist-packages (from fastai) (0.0.7)\n",
            "Requirement already satisfied: setuptools in /usr/local/lib/python3.7/dist-packages (from spacy<4->fastai) (57.4.0)\n",
            "Requirement already satisfied: pydantic!=1.8,!=1.8.1,<1.11.0,>=1.7.4 in /usr/local/lib/python3.7/dist-packages (from spacy<4->fastai) (1.10.2)\n",
            "Requirement already satisfied: typer<0.5.0,>=0.3.0 in /usr/local/lib/python3.7/dist-packages (from spacy<4->fastai) (0.4.2)\n",
            "Requirement already satisfied: murmurhash<1.1.0,>=0.28.0 in /usr/local/lib/python3.7/dist-packages (from spacy<4->fastai) (1.0.9)\n",
            "Requirement already satisfied: preshed<3.1.0,>=3.0.2 in /usr/local/lib/python3.7/dist-packages (from spacy<4->fastai) (3.0.8)\n",
            "Requirement already satisfied: pathy>=0.3.5 in /usr/local/lib/python3.7/dist-packages (from spacy<4->fastai) (0.6.2)\n",
            "Requirement already satisfied: numpy>=1.15.0 in /usr/local/lib/python3.7/dist-packages (from spacy<4->fastai) (1.21.6)\n",
            "Requirement already satisfied: typing-extensions<4.2.0,>=3.7.4 in /usr/local/lib/python3.7/dist-packages (from spacy<4->fastai) (4.1.1)\n",
            "Requirement already satisfied: langcodes<4.0.0,>=3.2.0 in /usr/local/lib/python3.7/dist-packages (from spacy<4->fastai) (3.3.0)\n",
            "Requirement already satisfied: srsly<3.0.0,>=2.4.3 in /usr/local/lib/python3.7/dist-packages (from spacy<4->fastai) (2.4.5)\n",
            "Requirement already satisfied: catalogue<2.1.0,>=2.0.6 in /usr/local/lib/python3.7/dist-packages (from spacy<4->fastai) (2.0.8)\n",
            "Requirement already satisfied: jinja2 in /usr/local/lib/python3.7/dist-packages (from spacy<4->fastai) (2.11.3)\n",
            "Requirement already satisfied: tqdm<5.0.0,>=4.38.0 in /usr/local/lib/python3.7/dist-packages (from spacy<4->fastai) (4.64.1)\n",
            "Requirement already satisfied: wasabi<1.1.0,>=0.9.1 in /usr/local/lib/python3.7/dist-packages (from spacy<4->fastai) (0.10.1)\n",
            "Requirement already satisfied: thinc<8.2.0,>=8.1.0 in /usr/local/lib/python3.7/dist-packages (from spacy<4->fastai) (8.1.5)\n",
            "Requirement already satisfied: spacy-loggers<2.0.0,>=1.0.0 in /usr/local/lib/python3.7/dist-packages (from spacy<4->fastai) (1.0.3)\n",
            "Requirement already satisfied: spacy-legacy<3.1.0,>=3.0.10 in /usr/local/lib/python3.7/dist-packages (from spacy<4->fastai) (3.0.10)\n",
            "Requirement already satisfied: cymem<2.1.0,>=2.0.2 in /usr/local/lib/python3.7/dist-packages (from spacy<4->fastai) (2.0.7)\n",
            "Requirement already satisfied: zipp>=0.5 in /usr/local/lib/python3.7/dist-packages (from catalogue<2.1.0,>=2.0.6->spacy<4->fastai) (3.9.0)\n",
            "Requirement already satisfied: pyparsing!=3.0.5,>=2.0.2 in /usr/local/lib/python3.7/dist-packages (from packaging->fastai) (3.0.9)\n",
            "Requirement already satisfied: smart-open<6.0.0,>=5.2.1 in /usr/local/lib/python3.7/dist-packages (from pathy>=0.3.5->spacy<4->fastai) (5.2.1)\n",
            "Requirement already satisfied: idna<3,>=2.5 in /usr/local/lib/python3.7/dist-packages (from requests->fastai) (2.10)\n",
            "Requirement already satisfied: certifi>=2017.4.17 in /usr/local/lib/python3.7/dist-packages (from requests->fastai) (2022.9.24)\n",
            "Requirement already satisfied: urllib3!=1.25.0,!=1.25.1,<1.26,>=1.21.1 in /usr/local/lib/python3.7/dist-packages (from requests->fastai) (1.24.3)\n",
            "Requirement already satisfied: chardet<4,>=3.0.2 in /usr/local/lib/python3.7/dist-packages (from requests->fastai) (3.0.4)\n",
            "Requirement already satisfied: blis<0.8.0,>=0.7.8 in /usr/local/lib/python3.7/dist-packages (from thinc<8.2.0,>=8.1.0->spacy<4->fastai) (0.7.9)\n",
            "Requirement already satisfied: confection<1.0.0,>=0.0.1 in /usr/local/lib/python3.7/dist-packages (from thinc<8.2.0,>=8.1.0->spacy<4->fastai) (0.0.3)\n",
            "Requirement already satisfied: click<9.0.0,>=7.1.1 in /usr/local/lib/python3.7/dist-packages (from typer<0.5.0,>=0.3.0->spacy<4->fastai) (7.1.2)\n",
            "Requirement already satisfied: MarkupSafe>=0.23 in /usr/local/lib/python3.7/dist-packages (from jinja2->spacy<4->fastai) (2.0.1)\n",
            "Requirement already satisfied: python-dateutil>=2.1 in /usr/local/lib/python3.7/dist-packages (from matplotlib->fastai) (2.8.2)\n",
            "Requirement already satisfied: cycler>=0.10 in /usr/local/lib/python3.7/dist-packages (from matplotlib->fastai) (0.11.0)\n",
            "Requirement already satisfied: kiwisolver>=1.0.1 in /usr/local/lib/python3.7/dist-packages (from matplotlib->fastai) (1.4.4)\n",
            "Requirement already satisfied: six>=1.5 in /usr/local/lib/python3.7/dist-packages (from python-dateutil>=2.1->matplotlib->fastai) (1.15.0)\n",
            "Requirement already satisfied: pytz>=2017.3 in /usr/local/lib/python3.7/dist-packages (from pandas->fastai) (2022.5)\n",
            "Requirement already satisfied: joblib>=0.11 in /usr/local/lib/python3.7/dist-packages (from scikit-learn->fastai) (1.2.0)\n",
            "Requirement already satisfied: threadpoolctl>=2.0.0 in /usr/local/lib/python3.7/dist-packages (from scikit-learn->fastai) (3.1.0)\n"
          ]
        }
      ],
      "source": [
        "!pip install fastai"
      ]
    },
    {
      "cell_type": "code",
      "execution_count": null,
      "metadata": {
        "colab": {
          "base_uri": "https://localhost:8080/"
        },
        "id": "AQ0DTsILvZPB",
        "outputId": "c640b2c6-041b-4bfb-f88b-e51464997651"
      },
      "outputs": [
        {
          "output_type": "stream",
          "name": "stdout",
          "text": [
            "Traceback (most recent call last):\n",
            "  File \"/usr/local/bin/pip3\", line 5, in <module>\n",
            "    from pip._internal.cli.main import main\n",
            "  File \"/usr/local/lib/python3.7/dist-packages/pip/_internal/cli/main.py\", line 9, in <module>\n",
            "    from pip._internal.cli.autocompletion import autocomplete\n",
            "  File \"/usr/local/lib/python3.7/dist-packages/pip/_internal/cli/autocompletion.py\", line 10, in <module>\n",
            "    from pip._internal.cli.main_parser import create_main_parser\n",
            "  File \"/usr/local/lib/python3.7/dist-packages/pip/_internal/cli/main_parser.py\", line 8, in <module>\n",
            "    from pip._internal.cli import cmdoptions\n",
            "  File \"/usr/local/lib/python3.7/dist-packages/pip/_internal/cli/cmdoptions.py\", line 24, in <module>\n",
            "    from pip._internal.cli.progress_bars import BAR_TYPES\n",
            "  File \"/usr/local/lib/python3.7/dist-packages/pip/_internal/cli/progress_bars.py\", line 10, in <module>\n",
            "    from pip._internal.utils.logging import get_indentation\n",
            "  File \"/usr/local/lib/python3.7/dist-packages/pip/_internal/utils/logging.py\", line 4, in <module>\n",
            "    import logging.handlers\n",
            "  File \"/usr/lib/python3.7/logging/handlers.py\", line 26, in <module>\n",
            "    import logging, socket, os, pickle, struct, time, re\n",
            "  File \"/usr/lib/python3.7/pickle.py\", line 37, in <module>\n",
            "    import _compat_pickle\n",
            "  File \"<frozen importlib._bootstrap>\", line 983, in _find_and_load\n",
            "  File \"<frozen importlib._bootstrap>\", line 967, in _find_and_load_unlocked\n",
            "  File \"<frozen importlib._bootstrap>\", line 677, in _load_unlocked\n",
            "  File \"<frozen importlib._bootstrap_external>\", line 724, in exec_module\n",
            "  File \"<frozen importlib._bootstrap_external>\", line 857, in get_code\n",
            "  File \"<frozen importlib._bootstrap_external>\", line 525, in _compile_bytecode\n",
            "KeyboardInterrupt\n"
          ]
        }
      ],
      "source": [
        "!pip install ortools"
      ]
    },
    {
      "cell_type": "code",
      "execution_count": null,
      "metadata": {
        "colab": {
          "base_uri": "https://localhost:8080/"
        },
        "id": "bywxG45Hp3VY",
        "outputId": "96bcc272-186c-401b-f318-80cd388f1640"
      },
      "outputs": [
        {
          "output_type": "stream",
          "name": "stdout",
          "text": [
            "The maximum possible flow is 23 \n"
          ]
        }
      ],
      "source": [
        "# Python program for implementation\n",
        "# of Ford Fulkerson algorithm\n",
        "from collections import defaultdict\n",
        "\n",
        "# This class represents a directed graph\n",
        "# using adjacency matrix representation\n",
        "class Gra:\n",
        "\n",
        "    def __init__(self, gra):\n",
        "        self.gra = gra  # residual gra\n",
        "        self. ROW = len(gra)\n",
        "        # self.COL = len(gr[0])\n",
        "\n",
        "    '''Returns true if there is a path from source 's' to sink 't' in\n",
        "    residual gra. Also fills parent[] to store the path '''\n",
        "\n",
        "    def BFS(self, s, t, Pa_rent):\n",
        "\n",
        "        # Mark all the vertices as not visited\n",
        "        visited = [False]*(self.ROW)\n",
        "\n",
        "        # Create a queue for BFS\n",
        "        queue = []\n",
        "\n",
        "        # Mark the source node as visited and enqueue it\n",
        "        queue.append(s)\n",
        "        visited[s] = True\n",
        "\n",
        "         # Standard BFS Loop\n",
        "        while queue:\n",
        "\n",
        "            # Dequeue a vertex from queue and print it\n",
        "            u = queue.pop(0)\n",
        "\n",
        "            # Get all adjacent vertices of the dequeued vertex u\n",
        "            # If a adjacent has not been visited, then mark it\n",
        "            # visited and enqueue it\n",
        "            for ind, val in enumerate(self.gra[u]):\n",
        "                if visited[ind] == False and val > 0:\n",
        "                      # If we find a connection to the sink node,\n",
        "                    # then there is no point in BFS anymore\n",
        "                    # We just have to set its parent and can return true\n",
        "                    queue.append(ind)\n",
        "                    visited[ind] = True\n",
        "                    Pa_rent[ind] = u\n",
        "                    if ind == t:\n",
        "                        return True\n",
        "\n",
        "        # We didn't reach sink in BFS starting\n",
        "        # from source, so return false\n",
        "        return False\n",
        "\n",
        "\n",
        "    # Returns the maximum flow from s to t in the given graph\n",
        "    def FordFulkerson(self, source, S_ink):\n",
        "\n",
        "        # This array is filled by BFS and to store path\n",
        "        Pa_rent = [-1]*(self.ROW)\n",
        "\n",
        "        max_flow = 0 # There is no flow initially\n",
        "\n",
        "        # Augment the flow while there is path from source to sink\n",
        "        while self.BFS(source, S_ink, Pa_rent) :\n",
        "\n",
        "            # Find minimum residual capacity of the edges along the\n",
        "            # path filled by BFS. Or we can say find the maximum flow\n",
        "            # through the path found.\n",
        "            path_flow = float(\"Inf\")\n",
        "            S = S_ink\n",
        "            while(S !=  source):\n",
        "                path_flow = min (path_flow, self.gra[Pa_rent[S]][S])\n",
        "                S = Pa_rent[S]\n",
        "\n",
        "            # Add path flow to overall flow\n",
        "            max_flow +=  path_flow\n",
        "\n",
        "            # update residual capacities of the edges and reverse edges\n",
        "            # along the path\n",
        "            v = S_ink\n",
        "            while(v !=  source):\n",
        "                u = Pa_rent[v]\n",
        "                self.gra[u][v] -= path_flow\n",
        "                self.gra[v][u] += path_flow\n",
        "                v = Pa_rent[v]\n",
        "\n",
        "        return max_flow\n",
        "\n",
        "\n",
        "# Create a graph given in the above diagram\n",
        "\n",
        "gra = [[0, 16, 13, 0, 0, 0],\n",
        "        [0, 0, 10, 12, 0, 0],\n",
        "        [0, 4, 0, 0, 14, 0],\n",
        "        [0, 0, 9, 0, 0, 20],\n",
        "        [0, 0, 0, 7, 0, 4],\n",
        "        [0, 0, 0, 0, 0, 0]]\n",
        "\n",
        "g = Gra(gra)\n",
        "\n",
        "source = 0; S_ink = 5\n",
        "\n",
        "print (\"The maximum possible flow is %d \" % g.FordFulkerson(source, S_ink))"
      ]
    },
    {
      "cell_type": "code",
      "source": [],
      "metadata": {
        "id": "D-OnIuQIND_s"
      },
      "execution_count": null,
      "outputs": []
    },
    {
      "cell_type": "code",
      "execution_count": null,
      "metadata": {
        "colab": {
          "base_uri": "https://localhost:8080/"
        },
        "id": "ZQP4VhlqwP_7",
        "outputId": "ff1dd5ff-9028-4097-e809-8355fa3f9ecb"
      },
      "outputs": [
        {
          "output_type": "stream",
          "name": "stdout",
          "text": [
            "2\n"
          ]
        }
      ],
      "source": [
        "# Python3 program to count number if sink nodes\n",
        "\n",
        "# Return the number of Sink NOdes.\n",
        "def countSink(n, m, edgeFrom, edgeTo):\n",
        "\n",
        "    # Array for marking the non-sink node.\n",
        "    mark = [0] * (n + 1)\n",
        "\n",
        "    # Marking the non-sink node.\n",
        "    for i in range(m):\n",
        "        mark[edgeFrom[i]] = 1\n",
        "\n",
        "    # Counting the sink nodes.\n",
        "    count = 0\n",
        "    for i in range(1, n + 1):\n",
        "        if (not mark[i]):\n",
        "            count += 1\n",
        "\n",
        "    return count\n",
        "\n",
        "# Driver Code\n",
        "if __name__ == '__main__':\n",
        "\n",
        "    n = 4\n",
        "    m = 2\n",
        "    edgeFrom = [2, 4]\n",
        "    edgeTo = [3, 3]\n",
        "\n",
        "    print(countSink(n, m, edgeFrom, edgeTo))"
      ]
    },
    {
      "cell_type": "code",
      "execution_count": null,
      "metadata": {
        "id": "q8fT18l-zUkv"
      },
      "outputs": [],
      "source": [
        "# Work out the average value of the total flow into sink node t. Present the total flow tf_avg(3)\n",
        "import numpy as np\n",
        "\n",
        "# run algo 100 times and draw the avarage convergence figure\n",
        "def solveQueensProblem(dimension, doOutput = False, maxSteps = 1000000):\n",
        "    class TRun():\n",
        "        def __init__(self, Pole):\n",
        "            self.Pole = Pole\n",
        "            self.T = 50\n",
        "            self.alpha = 0.98\n",
        "\n",
        "        def Run(self):\n",
        "            Pos = self.Pole.Mix()\n",
        "            ds = self.Pole.Calc(Pos) - self.Pole.CalcSelf()\n",
        "        # print(self.Pole.Calc(Pos))\n",
        "            if ds < 0:\n",
        "                self.Pole.Change(Pos)\n",
        "            else:\n",
        "                p = np.exp(- ds / self.T)\n",
        "            if p > rnd.random():\n",
        "                self.Pole.Change(Pos)\n",
        "                self.T = self.alpha * self.T\n",
        "                return self.Pole.CalcSelf()"
      ]
    },
    {
      "cell_type": "code",
      "source": [
        "import numpy as np\n",
        "import matplotlib.pyplot as plt\n",
        "# run algo 100 times and draw the average convergence figure\n",
        "\n",
        "curs = list()\n",
        "\n",
        "for n in range(100):\n",
        " n,cur = solveQueensProblem(10,maxSteps=1000)\n",
        " curs.append(cur)\n",
        "\n",
        "\n",
        "x = np.matrix(curs)\n",
        "meanSolution = np.matrix(curs).mean(0)\n",
        "\n",
        "plt.figure(1, figsize=(10, 5))\n",
        "plt.plot(meanSolution.tolist()[0])\n",
        "plt.grid(True)\n",
        "plt.xlabel(\"Time\")\n",
        "plt.ylabel(\"Energy\")\n",
        "plt.savefig(\"/home/sa-example.svg\")\n",
        "plt.show()\n",
        "\n",
        "maxDimension = 40;\n",
        "maxRunsForN = 200;\n",
        "startRun = 4;\n",
        "\n",
        "avarageStepsForN = []\n",
        "\n",
        "for N in range(startRun, maxDimension + 1):\n",
        "    print(N, end=\" \")\n",
        "    stepsOnCurrentRun = []\n",
        "    for run in range(maxRunsForN):\n",
        "        requiredSteps, curs = solveQueensProblem(N)\n",
        "        stepsOnCurrentRun.append(requiredSteps)\n",
        "        avarageStepsForN.append(sum(stepsOnCurrentRun) / maxRunsForN)"
      ],
      "metadata": {
        "colab": {
          "base_uri": "https://localhost:8080/",
          "height": 243
        },
        "id": "4V0ogjXNzKpx",
        "outputId": "7b1bf934-2cb2-43cd-99a8-33963e818af6"
      },
      "execution_count": null,
      "outputs": [
        {
          "output_type": "error",
          "ename": "TypeError",
          "evalue": "ignored",
          "traceback": [
            "\u001b[0;31m---------------------------------------------------------------------------\u001b[0m",
            "\u001b[0;31mTypeError\u001b[0m                                 Traceback (most recent call last)",
            "\u001b[0;32m<ipython-input-13-63712b7fdb9e>\u001b[0m in \u001b[0;36m<module>\u001b[0;34m\u001b[0m\n\u001b[1;32m      6\u001b[0m \u001b[0;34m\u001b[0m\u001b[0m\n\u001b[1;32m      7\u001b[0m \u001b[0;32mfor\u001b[0m \u001b[0mn\u001b[0m \u001b[0;32min\u001b[0m \u001b[0mrange\u001b[0m\u001b[0;34m(\u001b[0m\u001b[0;36m100\u001b[0m\u001b[0;34m)\u001b[0m\u001b[0;34m:\u001b[0m\u001b[0;34m\u001b[0m\u001b[0;34m\u001b[0m\u001b[0m\n\u001b[0;32m----> 8\u001b[0;31m  \u001b[0mn\u001b[0m\u001b[0;34m,\u001b[0m\u001b[0mcur\u001b[0m \u001b[0;34m=\u001b[0m \u001b[0msolveQueensProblem\u001b[0m\u001b[0;34m(\u001b[0m\u001b[0;36m10\u001b[0m\u001b[0;34m,\u001b[0m\u001b[0mmaxSteps\u001b[0m\u001b[0;34m=\u001b[0m\u001b[0;36m1000\u001b[0m\u001b[0;34m)\u001b[0m\u001b[0;34m\u001b[0m\u001b[0;34m\u001b[0m\u001b[0m\n\u001b[0m\u001b[1;32m      9\u001b[0m  \u001b[0mcurs\u001b[0m\u001b[0;34m.\u001b[0m\u001b[0mappend\u001b[0m\u001b[0;34m(\u001b[0m\u001b[0mcur\u001b[0m\u001b[0;34m)\u001b[0m\u001b[0;34m\u001b[0m\u001b[0;34m\u001b[0m\u001b[0m\n\u001b[1;32m     10\u001b[0m \u001b[0;34m\u001b[0m\u001b[0m\n",
            "\u001b[0;31mTypeError\u001b[0m: cannot unpack non-iterable NoneType object"
          ]
        }
      ]
    },
    {
      "cell_type": "code",
      "execution_count": null,
      "metadata": {
        "colab": {
          "base_uri": "https://localhost:8080/"
        },
        "id": "onfnsanhrPrk",
        "outputId": "c2d37e1a-6b8e-4c40-ba06-6f84e8ca69ed"
      },
      "outputs": [
        {
          "output_type": "stream",
          "name": "stdout",
          "text": [
            "{0: [], 1: [(0, 1)]}\n",
            "{0: [], 1: [(0, 1)], 2: [(0, 2)]}\n",
            "{0: [], 1: [(0, 1)], 2: [(0, 2)], 3: [(0, 1), (1, 3)]}\n",
            "{0: [], 1: [(0, 1)], 2: [(0, 2)], 3: [(0, 1), (1, 3)], 4: [(0, 2), (2, 4)]}\n",
            "{0: [], 1: [(0, 1)], 2: [(0, 2)], 3: [(0, 1), (1, 3)], 4: [(0, 2), (2, 4)], 5: [(0, 1), (1, 3), (3, 5)]}\n",
            "{0: [], 1: [(0, 1)]}\n",
            "{0: [], 1: [(0, 1)], 2: [(0, 2)]}\n",
            "{0: [], 1: [(0, 1)], 2: [(0, 2)], 3: [(0, 1), (1, 3)]}\n",
            "{0: [], 1: [(0, 1)], 2: [(0, 2)], 3: [(0, 1), (1, 3)], 4: [(0, 2), (2, 4)]}\n",
            "{0: [], 1: [(0, 1)], 2: [(0, 2)], 3: [(0, 1), (1, 3)], 4: [(0, 2), (2, 4)], 5: [(0, 2), (2, 4), (4, 5)]}\n",
            "{0: [], 1: [(0, 1)]}\n",
            "{0: [], 1: [(0, 1)], 2: [(0, 2)]}\n",
            "{0: [], 1: [(0, 1)], 2: [(0, 2)], 3: [(0, 1), (1, 3)]}\n",
            "{0: [], 1: [(0, 1)], 2: [(0, 2)], 3: [(0, 1), (1, 3)], 4: [(0, 1), (1, 3), (3, 4)]}\n",
            "Edmonds-Karp algorithm\n",
            "maximum_flow_value is: \n"
          ]
        },
        {
          "output_type": "execute_result",
          "data": {
            "text/plain": [
              "(None, 4)"
            ]
          },
          "metadata": {},
          "execution_count": 9
        }
      ],
      "source": [
        "#Edmonds-Karp Algorithm\n",
        "\n",
        "def maximum_flow(Cap, s, t):\n",
        "        num = len(Cap) # C is the capacity matrix\n",
        "        Flow = [[0] * num for i in range(num)]\n",
        "        p = bfs(Cap, Flow, s, t) # p is the path\n",
        "      #  print path\n",
        "        while p != None:\n",
        "            flow = min(Cap[u][v] - Flow[u][v] for u,v in p)\n",
        "            for u,v in p:\n",
        "                Flow[u][v] += flow\n",
        "                Flow[v][u] -= flow\n",
        "            p = bfs(Cap, Flow, s, t)\n",
        "        return sum(Flow[s][i] for i in range(num))\n",
        "\n",
        "#find path by using BFS\n",
        "def bfs(Cap, Flow, s, t):\n",
        "        queue = [s]\n",
        "        ps = {s:[]}\n",
        "        if s == t:\n",
        "            return ps[s]\n",
        "        while queue:\n",
        "            u = queue.pop(0)\n",
        "            for v in range(len(Cap)):\n",
        "                    if(Cap[u][v]-Flow[u][v]>0) and v not in ps:\n",
        "                        ps[v] = ps[u]+[(u,v)]\n",
        "                        print (ps)\n",
        "                        if v == t:\n",
        "                            return ps[v]\n",
        "                        queue.append(v)\n",
        "        return None\n",
        "\n",
        "# make a capacity graph\n",
        "# node   s   o   p   q   r   t\n",
        "Cap = [[ 0, 3, 3, 0, 0, 0 ],  # s\n",
        "     [ 0, 0, 2, 3, 0, 0 ],  # o\n",
        "     [ 0, 0, 0, 0, 2, 0 ],  # p\n",
        "     [ 0, 0, 0, 0, 4, 2 ],  # q\n",
        "     [ 0, 0, 0, 0, 0, 2 ],  # r\n",
        "     [ 0, 0, 0, 0, 0, 3 ]]  # t\n",
        "\n",
        "source = 0  # A\n",
        "Sink = 5    # F\n",
        "maximum_flow_value = maximum_flow(Cap, source, Sink)\n",
        "print (\"Edmonds-Karp algorithm\")\n",
        "print (\"maximum_flow_value is: \"), maximum_flow_value"
      ]
    },
    {
      "cell_type": "markdown",
      "metadata": {
        "id": "6KBjEzZCz2eM"
      },
      "source": [
        "Do you notice a significant difference between tf_avg(3) and tf_avg(2)? If so, why do you think this occurs?\n",
        "\n",
        "\n",
        "Ans. the difference occurs due to the variation in work flow\n"
      ]
    },
    {
      "cell_type": "code",
      "source": [],
      "metadata": {
        "id": "ANtMNpweZpJt"
      },
      "execution_count": null,
      "outputs": []
    }
  ],
  "metadata": {
    "colab": {
      "provenance": []
    },
    "kernelspec": {
      "display_name": "Python 3",
      "language": "python",
      "name": "python3"
    },
    "language_info": {
      "codemirror_mode": {
        "name": "ipython",
        "version": 3
      },
      "file_extension": ".py",
      "mimetype": "text/x-python",
      "name": "python",
      "nbconvert_exporter": "python",
      "pygments_lexer": "ipython3",
      "version": "3.8.5"
    }
  },
  "nbformat": 4,
  "nbformat_minor": 0
}